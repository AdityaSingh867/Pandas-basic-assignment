{
 "cells": [
  {
   "cell_type": "code",
   "execution_count": 9,
   "id": "2cd528a5-b485-4ab5-a9c4-772ac6f69466",
   "metadata": {},
   "outputs": [],
   "source": [
    "import pandas as pd"
   ]
  },
  {
   "cell_type": "markdown",
   "id": "539a4a0c-4d05-4d73-9557-59c53bfa9501",
   "metadata": {},
   "source": [
    "Q1. Create a Pandas Series that contains the following data: 4, 8, 15, 16, 23, and 42. Then, print the series ? "
   ]
  },
  {
   "cell_type": "code",
   "execution_count": 49,
   "id": "c6037b4c-1869-4fdd-a592-76c114ecb934",
   "metadata": {},
   "outputs": [],
   "source": [
    "lis_ = [4,8,15,16,23,42]"
   ]
  },
  {
   "cell_type": "code",
   "execution_count": 52,
   "id": "18bfed8c-dc9a-48a1-b859-88860c798f5c",
   "metadata": {},
   "outputs": [],
   "source": [
    "series = pd.Series(lis_)"
   ]
  },
  {
   "cell_type": "code",
   "execution_count": 54,
   "id": "d4ac8e23-a59b-4971-a657-f1b69f3bba90",
   "metadata": {},
   "outputs": [
    {
     "data": {
      "text/plain": [
       "0     4\n",
       "1     8\n",
       "2    15\n",
       "3    16\n",
       "4    23\n",
       "5    42\n",
       "dtype: int64"
      ]
     },
     "execution_count": 54,
     "metadata": {},
     "output_type": "execute_result"
    }
   ],
   "source": [
    "series"
   ]
  },
  {
   "cell_type": "code",
   "execution_count": 53,
   "id": "e2b0e1e5-1dac-402c-8755-d688a2c5932d",
   "metadata": {},
   "outputs": [
    {
     "data": {
      "text/plain": [
       "pandas.core.series.Series"
      ]
     },
     "execution_count": 53,
     "metadata": {},
     "output_type": "execute_result"
    }
   ],
   "source": [
    "type(series)"
   ]
  },
  {
   "cell_type": "markdown",
   "id": "ef4020f0-80a6-47ef-b383-60d476d75326",
   "metadata": {},
   "source": [
    "Q2. Create a variable of list type containing 10 elements in it, and apply pandas.Series function on the\n",
    "variable print it ? "
   ]
  },
  {
   "cell_type": "code",
   "execution_count": 55,
   "id": "45bc121d-9d9e-4235-8891-a7e9aaef1dc0",
   "metadata": {},
   "outputs": [],
   "source": [
    "list_1 = ['a','s','d','f','g','h','j','k','l','z']"
   ]
  },
  {
   "cell_type": "code",
   "execution_count": 57,
   "id": "75067376-4100-4da3-843d-1613093d917f",
   "metadata": {},
   "outputs": [],
   "source": [
    "series_var = pd.Series(list_1)"
   ]
  },
  {
   "cell_type": "code",
   "execution_count": 58,
   "id": "9617094d-463b-452c-af67-c10221564982",
   "metadata": {},
   "outputs": [
    {
     "data": {
      "text/plain": [
       "pandas.core.series.Series"
      ]
     },
     "execution_count": 58,
     "metadata": {},
     "output_type": "execute_result"
    }
   ],
   "source": [
    "type(series_var)"
   ]
  },
  {
   "cell_type": "markdown",
   "id": "ec6b31a1-ce2a-4aeb-a270-b297289786df",
   "metadata": {},
   "source": [
    "Q3. Create a Pandas DataFrame that contains the following data: "
   ]
  },
  {
   "cell_type": "code",
   "execution_count": 28,
   "id": "ef4b3132-e7ac-4b19-9c60-efa0e23ee128",
   "metadata": {},
   "outputs": [],
   "source": [
    "lis = [['Name' , 'Age' , 'Gender'] , ['Alice' , '25' , 'Female'] , ['Bob' , '30' , 'Male'] , ['Claire' , '27' , 'Female']]"
   ]
  },
  {
   "cell_type": "code",
   "execution_count": 30,
   "id": "8bdf383a-0089-4db3-b776-e6f0a06e5a54",
   "metadata": {},
   "outputs": [],
   "source": [
    "df = pd.DataFrame(lis)"
   ]
  },
  {
   "cell_type": "code",
   "execution_count": 32,
   "id": "fe0cd3d6-81c6-4e5c-99b0-e589a6d648cc",
   "metadata": {},
   "outputs": [
    {
     "data": {
      "text/html": [
       "<div>\n",
       "<style scoped>\n",
       "    .dataframe tbody tr th:only-of-type {\n",
       "        vertical-align: middle;\n",
       "    }\n",
       "\n",
       "    .dataframe tbody tr th {\n",
       "        vertical-align: top;\n",
       "    }\n",
       "\n",
       "    .dataframe thead th {\n",
       "        text-align: right;\n",
       "    }\n",
       "</style>\n",
       "<table border=\"1\" class=\"dataframe\">\n",
       "  <thead>\n",
       "    <tr style=\"text-align: right;\">\n",
       "      <th></th>\n",
       "      <th>0</th>\n",
       "      <th>1</th>\n",
       "      <th>2</th>\n",
       "    </tr>\n",
       "  </thead>\n",
       "  <tbody>\n",
       "    <tr>\n",
       "      <th>0</th>\n",
       "      <td>Name</td>\n",
       "      <td>Age</td>\n",
       "      <td>Gender</td>\n",
       "    </tr>\n",
       "    <tr>\n",
       "      <th>1</th>\n",
       "      <td>Alice</td>\n",
       "      <td>25</td>\n",
       "      <td>Female</td>\n",
       "    </tr>\n",
       "    <tr>\n",
       "      <th>2</th>\n",
       "      <td>Bob</td>\n",
       "      <td>30</td>\n",
       "      <td>Male</td>\n",
       "    </tr>\n",
       "    <tr>\n",
       "      <th>3</th>\n",
       "      <td>Claire</td>\n",
       "      <td>27</td>\n",
       "      <td>Female</td>\n",
       "    </tr>\n",
       "  </tbody>\n",
       "</table>\n",
       "</div>"
      ],
      "text/plain": [
       "        0    1       2\n",
       "0    Name  Age  Gender\n",
       "1   Alice   25  Female\n",
       "2     Bob   30    Male\n",
       "3  Claire   27  Female"
      ]
     },
     "execution_count": 32,
     "metadata": {},
     "output_type": "execute_result"
    }
   ],
   "source": [
    "df"
   ]
  },
  {
   "cell_type": "code",
   "execution_count": 31,
   "id": "144a15d2-b03f-4179-9b54-071b608a0c58",
   "metadata": {},
   "outputs": [
    {
     "data": {
      "text/plain": [
       "pandas.core.frame.DataFrame"
      ]
     },
     "execution_count": 31,
     "metadata": {},
     "output_type": "execute_result"
    }
   ],
   "source": [
    "type(df)"
   ]
  },
  {
   "cell_type": "markdown",
   "id": "11444743-ab22-4dfe-9e07-16dd83b3c457",
   "metadata": {},
   "source": [
    "Q4. What is ‘DataFrame’ in pandas and how is it different from pandas.series? Explain with an example ? "
   ]
  },
  {
   "cell_type": "markdown",
   "id": "2e9f4df5-e860-48c2-87b5-bb6e652a480a",
   "metadata": {},
   "source": [
    "Data frame is a structure formate of data and data is given in table pandas always read data as a table foramte.\n",
    "\n",
    "Pandas series is a type of list like in python."
   ]
  },
  {
   "cell_type": "code",
   "execution_count": 34,
   "id": "25e34c2c-e74f-453d-a40d-fe0fa1cb849d",
   "metadata": {},
   "outputs": [
    {
     "data": {
      "text/html": [
       "<div>\n",
       "<style scoped>\n",
       "    .dataframe tbody tr th:only-of-type {\n",
       "        vertical-align: middle;\n",
       "    }\n",
       "\n",
       "    .dataframe tbody tr th {\n",
       "        vertical-align: top;\n",
       "    }\n",
       "\n",
       "    .dataframe thead th {\n",
       "        text-align: right;\n",
       "    }\n",
       "</style>\n",
       "<table border=\"1\" class=\"dataframe\">\n",
       "  <thead>\n",
       "    <tr style=\"text-align: right;\">\n",
       "      <th></th>\n",
       "      <th>0</th>\n",
       "      <th>1</th>\n",
       "      <th>2</th>\n",
       "    </tr>\n",
       "  </thead>\n",
       "  <tbody>\n",
       "    <tr>\n",
       "      <th>0</th>\n",
       "      <td>Name</td>\n",
       "      <td>Age</td>\n",
       "      <td>Gender</td>\n",
       "    </tr>\n",
       "    <tr>\n",
       "      <th>1</th>\n",
       "      <td>Alice</td>\n",
       "      <td>25</td>\n",
       "      <td>Female</td>\n",
       "    </tr>\n",
       "    <tr>\n",
       "      <th>2</th>\n",
       "      <td>Bob</td>\n",
       "      <td>30</td>\n",
       "      <td>Male</td>\n",
       "    </tr>\n",
       "    <tr>\n",
       "      <th>3</th>\n",
       "      <td>Claire</td>\n",
       "      <td>27</td>\n",
       "      <td>Female</td>\n",
       "    </tr>\n",
       "  </tbody>\n",
       "</table>\n",
       "</div>"
      ],
      "text/plain": [
       "        0    1       2\n",
       "0    Name  Age  Gender\n",
       "1   Alice   25  Female\n",
       "2     Bob   30    Male\n",
       "3  Claire   27  Female"
      ]
     },
     "execution_count": 34,
     "metadata": {},
     "output_type": "execute_result"
    }
   ],
   "source": [
    "df #data Frame"
   ]
  },
  {
   "cell_type": "code",
   "execution_count": 61,
   "id": "b3373776-28d4-40fe-8680-98c6f42ee65a",
   "metadata": {},
   "outputs": [],
   "source": [
    "s_1 = pd.Series('aditya') #series"
   ]
  },
  {
   "cell_type": "code",
   "execution_count": 62,
   "id": "1e5609c7-cef9-4932-9b1f-e0852913e698",
   "metadata": {},
   "outputs": [
    {
     "data": {
      "text/plain": [
       "0    aditya\n",
       "dtype: object"
      ]
     },
     "execution_count": 62,
     "metadata": {},
     "output_type": "execute_result"
    }
   ],
   "source": [
    "s_1"
   ]
  },
  {
   "cell_type": "markdown",
   "id": "19b64ee0-b7d9-4dee-ac7b-2ef990e309dd",
   "metadata": {},
   "source": [
    "Q5. What are some common functions you can use to manipulate data in a Pandas DataFrame? Can\n",
    "you give an example of when you might use one of these functions?"
   ]
  },
  {
   "cell_type": "markdown",
   "id": "91bff80d-4ca0-42eb-8722-24e11e4242a7",
   "metadata": {},
   "source": [
    "The common function use to manipulate data in pandas DataFrame is :\n",
    "\n",
    "1 - df.head()\n",
    "\n",
    "2 - df.tail()\n",
    "\n",
    "3 - df.columns\n",
    "\n",
    "4 - df[['type name columns which columns you want to print']]"
   ]
  },
  {
   "cell_type": "code",
   "execution_count": 63,
   "id": "9d8725ec-472b-4922-882a-a8d5d33b5af0",
   "metadata": {},
   "outputs": [
    {
     "data": {
      "text/html": [
       "<div>\n",
       "<style scoped>\n",
       "    .dataframe tbody tr th:only-of-type {\n",
       "        vertical-align: middle;\n",
       "    }\n",
       "\n",
       "    .dataframe tbody tr th {\n",
       "        vertical-align: top;\n",
       "    }\n",
       "\n",
       "    .dataframe thead th {\n",
       "        text-align: right;\n",
       "    }\n",
       "</style>\n",
       "<table border=\"1\" class=\"dataframe\">\n",
       "  <thead>\n",
       "    <tr style=\"text-align: right;\">\n",
       "      <th></th>\n",
       "      <th>0</th>\n",
       "      <th>1</th>\n",
       "      <th>2</th>\n",
       "    </tr>\n",
       "  </thead>\n",
       "  <tbody>\n",
       "    <tr>\n",
       "      <th>0</th>\n",
       "      <td>Name</td>\n",
       "      <td>Age</td>\n",
       "      <td>Gender</td>\n",
       "    </tr>\n",
       "  </tbody>\n",
       "</table>\n",
       "</div>"
      ],
      "text/plain": [
       "      0    1       2\n",
       "0  Name  Age  Gender"
      ]
     },
     "execution_count": 63,
     "metadata": {},
     "output_type": "execute_result"
    }
   ],
   "source": [
    "df.head(1)"
   ]
  },
  {
   "cell_type": "markdown",
   "id": "542d5801-6a19-42d0-a20a-c205843ee4ef",
   "metadata": {},
   "source": [
    "Q6. Which of the following is mutable in nature Series, DataFrame, Panel?"
   ]
  },
  {
   "cell_type": "markdown",
   "id": "80ad73b2-cb93-4435-85f0-956355dc97c4",
   "metadata": {},
   "source": [
    "DataFrame , Panle \n",
    "\n",
    "IMPORTANT --- except Series all are mutable"
   ]
  },
  {
   "cell_type": "markdown",
   "id": "9326591a-4dad-44cc-8952-097cb8b10313",
   "metadata": {},
   "source": [
    "Q7. Create a DataFrame using multiple Series. Explain with an example ?"
   ]
  },
  {
   "cell_type": "code",
   "execution_count": 68,
   "id": "0ebb8529-11d4-4002-9ab9-530240bb44da",
   "metadata": {},
   "outputs": [],
   "source": [
    "list_2 = [1,2,3,4,5,6,7,8,7,5,4,567,65,45,76,5]"
   ]
  },
  {
   "cell_type": "code",
   "execution_count": 69,
   "id": "afdc0762-b3b8-452f-b1b1-87a0153b508b",
   "metadata": {},
   "outputs": [
    {
     "data": {
      "text/plain": [
       "0       1\n",
       "1       2\n",
       "2       3\n",
       "3       4\n",
       "4       5\n",
       "5       6\n",
       "6       7\n",
       "7       8\n",
       "8       7\n",
       "9       5\n",
       "10      4\n",
       "11    567\n",
       "12     65\n",
       "13     45\n",
       "14     76\n",
       "15      5\n",
       "dtype: int64"
      ]
     },
     "execution_count": 69,
     "metadata": {},
     "output_type": "execute_result"
    }
   ],
   "source": [
    "pd.Series(list_2)"
   ]
  }
 ],
 "metadata": {
  "kernelspec": {
   "display_name": "Python 3 (ipykernel)",
   "language": "python",
   "name": "python3"
  },
  "language_info": {
   "codemirror_mode": {
    "name": "ipython",
    "version": 3
   },
   "file_extension": ".py",
   "mimetype": "text/x-python",
   "name": "python",
   "nbconvert_exporter": "python",
   "pygments_lexer": "ipython3",
   "version": "3.10.8"
  }
 },
 "nbformat": 4,
 "nbformat_minor": 5
}
